{
 "cells": [
  {
   "cell_type": "code",
   "execution_count": null,
   "id": "3b94f44e",
   "metadata": {},
   "outputs": [],
   "source": [
    "# import necessary Python libraries\n",
    "\n",
    "import pandas as pd\n",
    "import matplotlib.pyplot as plt\n",
    "import seaborn as sns"
   ]
  },
  {
   "cell_type": "code",
   "execution_count": null,
   "id": "0b19fd15",
   "metadata": {},
   "outputs": [],
   "source": [
    "# load the data from the csv file into a dataframe \n",
    "\n",
    "listings = pd.read_csv(\"Airbnb_NYC_2019.csv\")"
   ]
  },
  {
   "cell_type": "code",
   "execution_count": null,
   "id": "6771b500",
   "metadata": {},
   "outputs": [],
   "source": [
    "# display the dataframe\n",
    "\n",
    "listings"
   ]
  },
  {
   "cell_type": "code",
   "execution_count": null,
   "id": "e8477524",
   "metadata": {},
   "outputs": [],
   "source": [
    "# create a count plot that displays the count of Airbnb listings in each neighbourhood group of New York City\n",
    "# display the plot on the screen\n",
    "\n",
    "sns.countplot(x = \"neighbourhood_group\", data = listings)\n",
    "plt.show()"
   ]
  },
  {
   "cell_type": "code",
   "execution_count": null,
   "id": "211522b2",
   "metadata": {},
   "outputs": [],
   "source": [
    "# create a bar plot that displays the average price of Airbnb listings in each neighborhood group of New York City\n",
    "# display the plot on the screen\n",
    "\n",
    "sns.barplot(x = \"neighbourhood_group\", y = \"price\", data = listings)\n",
    "plt.show()"
   ]
  },
  {
   "cell_type": "code",
   "execution_count": null,
   "id": "1780614c",
   "metadata": {},
   "outputs": [],
   "source": [
    "# create a bar plot that displays the average price of Airbnb listings in each neighborhood group of New York City\n",
    "# display the plot on the screen\n",
    "\n",
    "sns.barplot(x = \"neighbourhood_group\", y = \"price\", data = listings, ci = False)\n",
    "plt.show()"
   ]
  },
  {
   "cell_type": "code",
   "execution_count": null,
   "id": "ad7ab17e",
   "metadata": {},
   "outputs": [],
   "source": []
  }
 ],
 "metadata": {
  "kernelspec": {
   "display_name": "Python 3 (ipykernel)",
   "language": "python",
   "name": "python3"
  },
  "language_info": {
   "codemirror_mode": {
    "name": "ipython",
    "version": 3
   },
   "file_extension": ".py",
   "mimetype": "text/x-python",
   "name": "python",
   "nbconvert_exporter": "python",
   "pygments_lexer": "ipython3",
   "version": "3.10.8"
  }
 },
 "nbformat": 4,
 "nbformat_minor": 5
}
