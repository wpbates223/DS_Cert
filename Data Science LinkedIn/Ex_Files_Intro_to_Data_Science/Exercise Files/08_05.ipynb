{
 "cells": [
  {
   "cell_type": "code",
   "execution_count": 1,
   "metadata": {
    "id": "_H2qr4cEri4k"
   },
   "outputs": [],
   "source": [
    "import pandas as pd\n",
    "import matplotlib.pyplot as plt\n",
    "import seaborn as sns\n",
    "import numpy as np"
   ]
  },
  {
   "cell_type": "code",
   "execution_count": 2,
   "metadata": {
    "id": "E4vBuHw0rm5B"
   },
   "outputs": [],
   "source": [
    "avocado_info = pd.read_csv(\"avocado_info.csv\")"
   ]
  },
  {
   "cell_type": "code",
   "execution_count": 3,
   "metadata": {
    "colab": {
     "base_uri": "https://localhost:8080/",
     "height": 206
    },
    "executionInfo": {
     "elapsed": 278,
     "status": "ok",
     "timestamp": 1678320261949,
     "user": {
      "displayName": "Lavanya Vijayan",
      "userId": "09394087000910120547"
     },
     "user_tz": 480
    },
    "id": "c70ZQ0yprnwA",
    "outputId": "d6546327-9a49-45e7-c346-1cba9ecd7951"
   },
   "outputs": [
    {
     "data": {
      "text/html": [
       "<div>\n",
       "<style scoped>\n",
       "    .dataframe tbody tr th:only-of-type {\n",
       "        vertical-align: middle;\n",
       "    }\n",
       "\n",
       "    .dataframe tbody tr th {\n",
       "        vertical-align: top;\n",
       "    }\n",
       "\n",
       "    .dataframe thead th {\n",
       "        text-align: right;\n",
       "    }\n",
       "</style>\n",
       "<table border=\"1\" class=\"dataframe\">\n",
       "  <thead>\n",
       "    <tr style=\"text-align: right;\">\n",
       "      <th></th>\n",
       "      <th>Growth Duration</th>\n",
       "      <th>Fertilizer</th>\n",
       "    </tr>\n",
       "  </thead>\n",
       "  <tbody>\n",
       "    <tr>\n",
       "      <th>0</th>\n",
       "      <td>98</td>\n",
       "      <td>True</td>\n",
       "    </tr>\n",
       "    <tr>\n",
       "      <th>1</th>\n",
       "      <td>108</td>\n",
       "      <td>False</td>\n",
       "    </tr>\n",
       "    <tr>\n",
       "      <th>2</th>\n",
       "      <td>129</td>\n",
       "      <td>False</td>\n",
       "    </tr>\n",
       "    <tr>\n",
       "      <th>3</th>\n",
       "      <td>116</td>\n",
       "      <td>False</td>\n",
       "    </tr>\n",
       "    <tr>\n",
       "      <th>4</th>\n",
       "      <td>111</td>\n",
       "      <td>False</td>\n",
       "    </tr>\n",
       "  </tbody>\n",
       "</table>\n",
       "</div>"
      ],
      "text/plain": [
       "   Growth Duration  Fertilizer\n",
       "0               98        True\n",
       "1              108       False\n",
       "2              129       False\n",
       "3              116       False\n",
       "4              111       False"
      ]
     },
     "execution_count": 3,
     "metadata": {},
     "output_type": "execute_result"
    }
   ],
   "source": [
    "avocado_info.head()"
   ]
  },
  {
   "cell_type": "code",
   "execution_count": 4,
   "metadata": {
    "executionInfo": {
     "elapsed": 192,
     "status": "ok",
     "timestamp": 1678321644484,
     "user": {
      "displayName": "Lavanya Vijayan",
      "userId": "09394087000910120547"
     },
     "user_tz": 480
    },
    "id": "3G3X0ECArosb"
   },
   "outputs": [],
   "source": [
    "fertilized = avocado_info.loc[avocado_info[\"Fertilizer\"] == True, \"Growth Duration\"]\n",
    "\n",
    "not_fertilized = avocado_info.loc[avocado_info[\"Fertilizer\"] == False, \"Growth Duration\"]"
   ]
  },
  {
   "cell_type": "code",
   "execution_count": 5,
   "metadata": {
    "colab": {
     "base_uri": "https://localhost:8080/"
    },
    "executionInfo": {
     "elapsed": 2,
     "status": "ok",
     "timestamp": 1678321649215,
     "user": {
      "displayName": "Lavanya Vijayan",
      "userId": "09394087000910120547"
     },
     "user_tz": 480
    },
    "id": "YsXZmX_GrrmV",
    "outputId": "83da5677-679c-4fa3-b3d0-a32c974bf806"
   },
   "outputs": [
    {
     "data": {
      "text/plain": [
       "array([105, 113,  97, 142, 127,  96, 103, 126, 110, 102, 131, 128, 130,\n",
       "       111, 117, 105, 130, 107, 103, 102,  97, 113, 130, 130, 113, 109,\n",
       "       103, 134, 114, 114, 129, 114, 129, 103, 103, 125, 119,  95, 131,\n",
       "       154,  86,  96, 145, 129, 126,  77,  93, 119, 104, 126, 127,  95,\n",
       "       115, 103, 129, 117, 103, 113, 117,  97,  98, 101, 110, 122,  97,\n",
       "       119, 144, 115,  98, 108,  98, 106, 132,  96, 126,  72, 130, 104,\n",
       "        96,  92, 103, 156,  75, 136, 130, 105, 118, 122, 105, 101, 101,\n",
       "       140, 100, 130,  87, 130, 104,  97, 161, 101, 108, 111, 140, 114,\n",
       "       103,  95, 111, 119,  96, 109, 108,  86, 133, 117, 121, 101, 129,\n",
       "       124, 117, 144,  97, 113,  96, 119, 130, 112, 102, 120, 115,  92,\n",
       "       113, 130, 143, 102, 139, 115, 129, 120, 124, 110, 108, 102, 116,\n",
       "       123, 115, 125, 101, 103, 116,  97, 124,  99, 114, 163, 119, 131,\n",
       "       112, 122, 141, 110,  71, 133,  77,  87, 105, 116,  93, 132,  97,\n",
       "        90, 101, 116, 145, 116, 117, 116, 122, 126, 128, 102, 123, 117,\n",
       "       117, 107,  91, 144, 119, 117, 129, 103, 118, 141, 128, 103, 119,\n",
       "       135, 123, 141,  92, 134,  75, 120, 123, 112, 100, 130,  91, 153,\n",
       "        85, 101,  71, 120, 120, 130,  98, 123, 129, 122, 110, 122, 115,\n",
       "        96, 117, 119,  77, 105, 105, 115, 117,  88, 100, 106,  90,  95,\n",
       "       122, 108, 125, 112, 122, 143, 112, 118, 100,  99,  96,  86, 126,\n",
       "       113,  65, 130, 100, 100, 108, 131, 115,  84, 100, 138, 114, 100,\n",
       "        99,  97, 122,  82, 110, 143, 126,  88, 103, 134, 112,  96, 104,\n",
       "       132, 129, 105, 100, 110, 127, 116, 112, 124, 100, 102, 117, 102,\n",
       "        85,  97, 130,  98, 128, 123, 105, 106, 163, 124, 152, 102, 123,\n",
       "       121, 136, 114, 103, 133, 110, 117, 115, 103,  98, 110,  77,  97,\n",
       "        75,  98, 101,  78,  98, 120, 139,  97, 114, 101, 114, 130, 116,\n",
       "       126, 125, 126, 148, 110, 134, 107, 155, 117, 129, 126, 120, 129,\n",
       "       122, 117,  95,  97,  71, 133,  85, 123,  93, 100, 100, 123,  96,\n",
       "       121, 100, 101, 163, 130, 130, 102, 141, 102, 117, 126,  99,  80,\n",
       "       114,  94,  98, 119,  97, 130,  98,  96, 126, 133, 118, 103, 105,\n",
       "       129,  97, 144, 103, 113, 123, 131, 103, 116,  87, 122,  99, 131,\n",
       "       141, 119, 125, 114, 130, 140,  95, 145, 130, 107, 141, 131, 115,\n",
       "       144, 143,  58, 117, 122, 107, 100,  91, 150, 128, 117, 115, 130,\n",
       "       117,  87, 136,  94, 115, 122, 101, 110,  99, 145, 107, 145, 127,\n",
       "       103, 104,  84, 100, 126,  91, 104,  86, 125, 111, 115, 103, 146,\n",
       "       144, 131,  92,  91,  96, 117, 115, 115, 116, 114, 115, 107, 103,\n",
       "        85, 120, 126, 125])"
      ]
     },
     "execution_count": 5,
     "metadata": {},
     "output_type": "execute_result"
    }
   ],
   "source": [
    "np.random.choice(fertilized, size = len(fertilized))"
   ]
  },
  {
   "cell_type": "code",
   "execution_count": 6,
   "metadata": {
    "colab": {
     "base_uri": "https://localhost:8080/"
    },
    "executionInfo": {
     "elapsed": 197,
     "status": "ok",
     "timestamp": 1678321663649,
     "user": {
      "displayName": "Lavanya Vijayan",
      "userId": "09394087000910120547"
     },
     "user_tz": 480
    },
    "id": "5oigyooKxCS1",
    "outputId": "96a90e28-da3a-4ba2-de76-1d79ca683b5b"
   },
   "outputs": [
    {
     "data": {
      "text/plain": [
       "array([125, 142, 147, 128, 152, 124, 140, 165, 132, 127, 103, 112,  80,\n",
       "       116, 104,  90, 126, 144, 110, 123, 138, 117, 119, 132,  55, 132,\n",
       "       109, 150, 139, 141, 100, 142, 133, 125, 104, 119, 135, 110,  85,\n",
       "        93, 158, 124, 152, 124,  90, 130, 124,  72, 132, 122, 138, 102,\n",
       "       114, 116, 112, 130, 123, 118, 120, 132, 123, 115, 127, 113, 111,\n",
       "       118, 112, 125, 125, 123, 137, 110, 132, 122, 102, 131, 117, 131,\n",
       "        87, 116, 100, 119, 123, 132, 116,  97, 114, 121, 115,  98, 113,\n",
       "       122, 120, 148,  71, 126, 117, 160, 123,  84, 125, 139,  97, 128,\n",
       "       135, 145, 110, 124, 128, 163, 113, 119, 137, 134, 123, 111, 133,\n",
       "       130, 139, 119, 132, 113,  97, 135, 113, 133, 121, 110, 158, 124,\n",
       "       126,  98, 135, 102, 139, 108, 145, 127, 137, 102, 120, 111, 120,\n",
       "       114, 111, 113, 119, 127, 110, 110, 104, 119, 119, 123, 138, 113,\n",
       "        84, 137, 125,  88, 126, 106, 123, 110, 116, 138, 104, 146, 127,\n",
       "       136, 143, 158, 137, 128, 121,  97, 102, 129, 116, 160, 136, 131,\n",
       "       118, 126, 131,  96, 150,  91, 104, 117, 109, 144, 107, 124, 100,\n",
       "       132, 138, 160, 128, 126, 173, 118, 103, 101, 140, 137, 119, 160,\n",
       "       146, 123,  94, 137, 156, 135,  80, 123, 123, 142,  99, 112, 115,\n",
       "       112, 118, 127, 112,  91, 124, 108,  78, 110, 112, 102, 117, 136,\n",
       "       116, 155, 111, 118, 116, 131, 135, 136, 115, 174, 124, 147,  97,\n",
       "       126, 152,  98, 132,  88, 134, 110, 117, 124, 115, 107, 124, 115,\n",
       "       112,  93, 150, 120, 124, 101, 173, 137, 110, 138, 147, 127, 141,\n",
       "       104, 115, 140, 139, 131, 124, 131,  79, 127, 112, 116, 113, 110,\n",
       "       137, 111, 146, 163, 117, 117, 120, 115, 126, 160,  99, 133, 124,\n",
       "       136, 128, 124, 104, 101, 131, 133, 130, 129, 129, 121, 121, 130,\n",
       "       134, 138, 122, 137, 143, 124, 111, 107, 124, 103,  63, 128, 116,\n",
       "       126, 130, 111, 115, 119,  90, 126, 126, 136, 130, 115, 133, 104,\n",
       "       107, 128, 119, 139, 110, 176, 112, 119, 122, 128, 127, 106, 150,\n",
       "        89, 158, 124, 105, 120, 112, 123, 145, 136, 122, 137, 115, 118,\n",
       "       141, 100, 121, 130,  89, 125, 108, 105,  98, 125, 106, 116, 131,\n",
       "       110, 126, 118, 111, 144, 132, 124, 128, 129, 147, 137, 117, 138,\n",
       "       113, 129, 101, 122, 126, 120, 124, 105, 120, 123, 105, 130, 121,\n",
       "       117, 146, 128, 133, 114, 139, 105, 139, 133, 131, 101, 144, 115,\n",
       "       111,  89, 136, 158, 121, 118, 148, 163, 173, 146,  97,  99, 119,\n",
       "       119, 112, 102, 144, 120, 150, 128, 136, 108, 110, 147, 147, 117,\n",
       "       134,  85, 123, 128, 100, 150, 120, 105, 132, 121, 129,  85, 127,\n",
       "       138, 114, 129, 125])"
      ]
     },
     "execution_count": 6,
     "metadata": {},
     "output_type": "execute_result"
    }
   ],
   "source": [
    "np.random.choice(not_fertilized, size = len(fertilized))"
   ]
  },
  {
   "cell_type": "code",
   "execution_count": 7,
   "metadata": {
    "executionInfo": {
     "elapsed": 170,
     "status": "ok",
     "timestamp": 1678321715662,
     "user": {
      "displayName": "Lavanya Vijayan",
      "userId": "09394087000910120547"
     },
     "user_tz": 480
    },
    "id": "aznsDvgqtwVh"
   },
   "outputs": [],
   "source": [
    "def resample(orig_sample):\n",
    "      return np.random.choice(orig_sample, size = len(orig_sample))"
   ]
  },
  {
   "cell_type": "code",
   "execution_count": 8,
   "metadata": {
    "executionInfo": {
     "elapsed": 152,
     "status": "ok",
     "timestamp": 1678321766588,
     "user": {
      "displayName": "Lavanya Vijayan",
      "userId": "09394087000910120547"
     },
     "user_tz": 480
    },
    "id": "BM70rkqdt51e"
   },
   "outputs": [],
   "source": [
    "def bootstrap(orig_sample, reps):\n",
    "    means = np.array([])\n",
    "    for i in range(reps):\n",
    "        new_sample = resample(orig_sample)\n",
    "        new_mean = np.mean(new_sample)\n",
    "        means = np. append(means, new_mean)\n",
    "    return means"
   ]
  },
  {
   "cell_type": "code",
   "execution_count": 9,
   "metadata": {
    "executionInfo": {
     "elapsed": 1362,
     "status": "ok",
     "timestamp": 1678321742616,
     "user": {
      "displayName": "Lavanya Vijayan",
      "userId": "09394087000910120547"
     },
     "user_tz": 480
    },
    "id": "Tjg403CIuNmb"
   },
   "outputs": [],
   "source": [
    "fertilized_means = bootstrap(fertilized, 10000)\n",
    "\n",
    "not_fertilized_means = bootstrap(not_fertilized, 10000)\n",
    "\n",
    "estimates = fertilized_means - not_fertilized_means"
   ]
  },
  {
   "cell_type": "code",
   "execution_count": 10,
   "metadata": {
    "colab": {
     "base_uri": "https://localhost:8080/"
    },
    "executionInfo": {
     "elapsed": 151,
     "status": "ok",
     "timestamp": 1678321743758,
     "user": {
      "displayName": "Lavanya Vijayan",
      "userId": "09394087000910120547"
     },
     "user_tz": 480
    },
    "id": "yoFwzoO-uh7e",
    "outputId": "44a2ffc0-afa6-4626-bac5-0ec57e1e1862"
   },
   "outputs": [
    {
     "data": {
      "text/plain": [
       "array([-11.76951415,  -9.44733915,  -9.59503634, ...,  -9.91025793,\n",
       "       -10.44057468,  -9.33116078])"
      ]
     },
     "execution_count": 10,
     "metadata": {},
     "output_type": "execute_result"
    }
   ],
   "source": [
    "estimates"
   ]
  },
  {
   "cell_type": "code",
   "execution_count": 11,
   "metadata": {
    "colab": {
     "base_uri": "https://localhost:8080/",
     "height": 265
    },
    "executionInfo": {
     "elapsed": 2093,
     "status": "ok",
     "timestamp": 1678321797441,
     "user": {
      "displayName": "Lavanya Vijayan",
      "userId": "09394087000910120547"
     },
     "user_tz": 480
    },
    "id": "gOFxd3kkujgO",
    "outputId": "dc393080-824b-4dfb-c30e-b1d8cc3b819d"
   },
   "outputs": [
    {
     "data": {
      "image/png": "[encoded data removed]",
      "text/plain": [
       "<Figure size 640x480 with 1 Axes>"
      ]
     },
     "metadata": {},
     "output_type": "display_data"
    }
   ],
   "source": [
    "sns.histplot(estimates)\n",
    "plt.show()"
   ]
  },
  {
   "cell_type": "code",
   "execution_count": 12,
   "metadata": {
    "colab": {
     "base_uri": "https://localhost:8080/"
    },
    "executionInfo": {
     "elapsed": 156,
     "status": "ok",
     "timestamp": 1678321801960,
     "user": {
      "displayName": "Lavanya Vijayan",
      "userId": "09394087000910120547"
     },
     "user_tz": 480
    },
    "id": "gFbIc4yPut9a",
    "outputId": "1169ca63-5f66-4035-9f7f-d9d9e6f3fa3f"
   },
   "outputs": [
    {
     "data": {
      "text/plain": [
       "(-11.336521626521623, -7.193604750369449)"
      ]
     },
     "execution_count": 12,
     "metadata": {},
     "output_type": "execute_result"
    }
   ],
   "source": [
    "(np.percentile(estimates, 2.5), np.percentile(estimates, 97.5))"
   ]
  },
  {
   "cell_type": "code",
   "execution_count": null,
   "metadata": {
    "id": "Jdpjglifxlim"
   },
   "outputs": [],
   "source": []
  }
 ],
 "metadata": {
  "colab": {
   "provenance": []
  },
  "kernelspec": {
   "display_name": "Python 3 (ipykernel)",
   "language": "python",
   "name": "python3"
  },
  "language_info": {
   "codemirror_mode": {
    "name": "ipython",
    "version": 3
   },
   "file_extension": ".py",
   "mimetype": "text/x-python",
   "name": "python",
   "nbconvert_exporter": "python",
   "pygments_lexer": "ipython3",
   "version": "3.11.2"
  }
 },
 "nbformat": 4,
 "nbformat_minor": 1
}
